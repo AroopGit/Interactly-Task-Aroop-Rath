{
  "nbformat": 4,
  "nbformat_minor": 0,
  "metadata": {
    "colab": {
      "provenance": [],
      "authorship_tag": "ABX9TyMVYhRopgNCcCL2wG7Kqs5N",
      "include_colab_link": true
    },
    "kernelspec": {
      "name": "python3",
      "display_name": "Python 3"
    },
    "language_info": {
      "name": "python"
    },
    "widgets": {
      "application/vnd.jupyter.widget-state+json": {
        "a0e724d159024f64aee9544505177591": {
          "model_module": "@jupyter-widgets/controls",
          "model_name": "HBoxModel",
          "model_module_version": "1.5.0",
          "state": {
            "_dom_classes": [],
            "_model_module": "@jupyter-widgets/controls",
            "_model_module_version": "1.5.0",
            "_model_name": "HBoxModel",
            "_view_count": null,
            "_view_module": "@jupyter-widgets/controls",
            "_view_module_version": "1.5.0",
            "_view_name": "HBoxView",
            "box_style": "",
            "children": [
              "IPY_MODEL_8868d850a4324f4eb5b973650c27d2c5",
              "IPY_MODEL_d349fa70c2d44d548ffd3bca1876d6da",
              "IPY_MODEL_45d87e014b114e959715c66a9d45eb4c"
            ],
            "layout": "IPY_MODEL_4ef2b902122f4552bac227481e6ae49a"
          }
        },
        "8868d850a4324f4eb5b973650c27d2c5": {
          "model_module": "@jupyter-widgets/controls",
          "model_name": "HTMLModel",
          "model_module_version": "1.5.0",
          "state": {
            "_dom_classes": [],
            "_model_module": "@jupyter-widgets/controls",
            "_model_module_version": "1.5.0",
            "_model_name": "HTMLModel",
            "_view_count": null,
            "_view_module": "@jupyter-widgets/controls",
            "_view_module_version": "1.5.0",
            "_view_name": "HTMLView",
            "description": "",
            "description_tooltip": null,
            "layout": "IPY_MODEL_5daebb2788fc4385a49677ff2d0ec200",
            "placeholder": "​",
            "style": "IPY_MODEL_f6a7241517ef489ea5ce958a244e4889",
            "value": "Map: 100%"
          }
        },
        "d349fa70c2d44d548ffd3bca1876d6da": {
          "model_module": "@jupyter-widgets/controls",
          "model_name": "FloatProgressModel",
          "model_module_version": "1.5.0",
          "state": {
            "_dom_classes": [],
            "_model_module": "@jupyter-widgets/controls",
            "_model_module_version": "1.5.0",
            "_model_name": "FloatProgressModel",
            "_view_count": null,
            "_view_module": "@jupyter-widgets/controls",
            "_view_module_version": "1.5.0",
            "_view_name": "ProgressView",
            "bar_style": "success",
            "description": "",
            "description_tooltip": null,
            "layout": "IPY_MODEL_1234fe02f2c64ee3b18a72b5532dffe5",
            "max": 120,
            "min": 0,
            "orientation": "horizontal",
            "style": "IPY_MODEL_d917a861d751478798e57b9f4c77ccda",
            "value": 120
          }
        },
        "45d87e014b114e959715c66a9d45eb4c": {
          "model_module": "@jupyter-widgets/controls",
          "model_name": "HTMLModel",
          "model_module_version": "1.5.0",
          "state": {
            "_dom_classes": [],
            "_model_module": "@jupyter-widgets/controls",
            "_model_module_version": "1.5.0",
            "_model_name": "HTMLModel",
            "_view_count": null,
            "_view_module": "@jupyter-widgets/controls",
            "_view_module_version": "1.5.0",
            "_view_name": "HTMLView",
            "description": "",
            "description_tooltip": null,
            "layout": "IPY_MODEL_02f8ef44f37446088541ed930f5ea055",
            "placeholder": "​",
            "style": "IPY_MODEL_6bee5fe50423459b8939bb0507126612",
            "value": " 120/120 [00:00&lt;00:00, 1307.90 examples/s]"
          }
        },
        "4ef2b902122f4552bac227481e6ae49a": {
          "model_module": "@jupyter-widgets/base",
          "model_name": "LayoutModel",
          "model_module_version": "1.2.0",
          "state": {
            "_model_module": "@jupyter-widgets/base",
            "_model_module_version": "1.2.0",
            "_model_name": "LayoutModel",
            "_view_count": null,
            "_view_module": "@jupyter-widgets/base",
            "_view_module_version": "1.2.0",
            "_view_name": "LayoutView",
            "align_content": null,
            "align_items": null,
            "align_self": null,
            "border": null,
            "bottom": null,
            "display": null,
            "flex": null,
            "flex_flow": null,
            "grid_area": null,
            "grid_auto_columns": null,
            "grid_auto_flow": null,
            "grid_auto_rows": null,
            "grid_column": null,
            "grid_gap": null,
            "grid_row": null,
            "grid_template_areas": null,
            "grid_template_columns": null,
            "grid_template_rows": null,
            "height": null,
            "justify_content": null,
            "justify_items": null,
            "left": null,
            "margin": null,
            "max_height": null,
            "max_width": null,
            "min_height": null,
            "min_width": null,
            "object_fit": null,
            "object_position": null,
            "order": null,
            "overflow": null,
            "overflow_x": null,
            "overflow_y": null,
            "padding": null,
            "right": null,
            "top": null,
            "visibility": null,
            "width": null
          }
        },
        "5daebb2788fc4385a49677ff2d0ec200": {
          "model_module": "@jupyter-widgets/base",
          "model_name": "LayoutModel",
          "model_module_version": "1.2.0",
          "state": {
            "_model_module": "@jupyter-widgets/base",
            "_model_module_version": "1.2.0",
            "_model_name": "LayoutModel",
            "_view_count": null,
            "_view_module": "@jupyter-widgets/base",
            "_view_module_version": "1.2.0",
            "_view_name": "LayoutView",
            "align_content": null,
            "align_items": null,
            "align_self": null,
            "border": null,
            "bottom": null,
            "display": null,
            "flex": null,
            "flex_flow": null,
            "grid_area": null,
            "grid_auto_columns": null,
            "grid_auto_flow": null,
            "grid_auto_rows": null,
            "grid_column": null,
            "grid_gap": null,
            "grid_row": null,
            "grid_template_areas": null,
            "grid_template_columns": null,
            "grid_template_rows": null,
            "height": null,
            "justify_content": null,
            "justify_items": null,
            "left": null,
            "margin": null,
            "max_height": null,
            "max_width": null,
            "min_height": null,
            "min_width": null,
            "object_fit": null,
            "object_position": null,
            "order": null,
            "overflow": null,
            "overflow_x": null,
            "overflow_y": null,
            "padding": null,
            "right": null,
            "top": null,
            "visibility": null,
            "width": null
          }
        },
        "f6a7241517ef489ea5ce958a244e4889": {
          "model_module": "@jupyter-widgets/controls",
          "model_name": "DescriptionStyleModel",
          "model_module_version": "1.5.0",
          "state": {
            "_model_module": "@jupyter-widgets/controls",
            "_model_module_version": "1.5.0",
            "_model_name": "DescriptionStyleModel",
            "_view_count": null,
            "_view_module": "@jupyter-widgets/base",
            "_view_module_version": "1.2.0",
            "_view_name": "StyleView",
            "description_width": ""
          }
        },
        "1234fe02f2c64ee3b18a72b5532dffe5": {
          "model_module": "@jupyter-widgets/base",
          "model_name": "LayoutModel",
          "model_module_version": "1.2.0",
          "state": {
            "_model_module": "@jupyter-widgets/base",
            "_model_module_version": "1.2.0",
            "_model_name": "LayoutModel",
            "_view_count": null,
            "_view_module": "@jupyter-widgets/base",
            "_view_module_version": "1.2.0",
            "_view_name": "LayoutView",
            "align_content": null,
            "align_items": null,
            "align_self": null,
            "border": null,
            "bottom": null,
            "display": null,
            "flex": null,
            "flex_flow": null,
            "grid_area": null,
            "grid_auto_columns": null,
            "grid_auto_flow": null,
            "grid_auto_rows": null,
            "grid_column": null,
            "grid_gap": null,
            "grid_row": null,
            "grid_template_areas": null,
            "grid_template_columns": null,
            "grid_template_rows": null,
            "height": null,
            "justify_content": null,
            "justify_items": null,
            "left": null,
            "margin": null,
            "max_height": null,
            "max_width": null,
            "min_height": null,
            "min_width": null,
            "object_fit": null,
            "object_position": null,
            "order": null,
            "overflow": null,
            "overflow_x": null,
            "overflow_y": null,
            "padding": null,
            "right": null,
            "top": null,
            "visibility": null,
            "width": null
          }
        },
        "d917a861d751478798e57b9f4c77ccda": {
          "model_module": "@jupyter-widgets/controls",
          "model_name": "ProgressStyleModel",
          "model_module_version": "1.5.0",
          "state": {
            "_model_module": "@jupyter-widgets/controls",
            "_model_module_version": "1.5.0",
            "_model_name": "ProgressStyleModel",
            "_view_count": null,
            "_view_module": "@jupyter-widgets/base",
            "_view_module_version": "1.2.0",
            "_view_name": "StyleView",
            "bar_color": null,
            "description_width": ""
          }
        },
        "02f8ef44f37446088541ed930f5ea055": {
          "model_module": "@jupyter-widgets/base",
          "model_name": "LayoutModel",
          "model_module_version": "1.2.0",
          "state": {
            "_model_module": "@jupyter-widgets/base",
            "_model_module_version": "1.2.0",
            "_model_name": "LayoutModel",
            "_view_count": null,
            "_view_module": "@jupyter-widgets/base",
            "_view_module_version": "1.2.0",
            "_view_name": "LayoutView",
            "align_content": null,
            "align_items": null,
            "align_self": null,
            "border": null,
            "bottom": null,
            "display": null,
            "flex": null,
            "flex_flow": null,
            "grid_area": null,
            "grid_auto_columns": null,
            "grid_auto_flow": null,
            "grid_auto_rows": null,
            "grid_column": null,
            "grid_gap": null,
            "grid_row": null,
            "grid_template_areas": null,
            "grid_template_columns": null,
            "grid_template_rows": null,
            "height": null,
            "justify_content": null,
            "justify_items": null,
            "left": null,
            "margin": null,
            "max_height": null,
            "max_width": null,
            "min_height": null,
            "min_width": null,
            "object_fit": null,
            "object_position": null,
            "order": null,
            "overflow": null,
            "overflow_x": null,
            "overflow_y": null,
            "padding": null,
            "right": null,
            "top": null,
            "visibility": null,
            "width": null
          }
        },
        "6bee5fe50423459b8939bb0507126612": {
          "model_module": "@jupyter-widgets/controls",
          "model_name": "DescriptionStyleModel",
          "model_module_version": "1.5.0",
          "state": {
            "_model_module": "@jupyter-widgets/controls",
            "_model_module_version": "1.5.0",
            "_model_name": "DescriptionStyleModel",
            "_view_count": null,
            "_view_module": "@jupyter-widgets/base",
            "_view_module_version": "1.2.0",
            "_view_name": "StyleView",
            "description_width": ""
          }
        }
      }
    }
  },
  "cells": [
    {
      "cell_type": "markdown",
      "metadata": {
        "id": "view-in-github",
        "colab_type": "text"
      },
      "source": [
        "<a href=\"https://colab.research.google.com/github/AroopGit/Interactly-Task-Aroop-Rath/blob/main/Candidate_Search.ipynb\" target=\"_parent\"><img src=\"https://colab.research.google.com/assets/colab-badge.svg\" alt=\"Open In Colab\"/></a>"
      ]
    },
    {
      "cell_type": "code",
      "execution_count": 1,
      "metadata": {
        "colab": {
          "base_uri": "https://localhost:8080/"
        },
        "id": "L0oTyTyTIl6_",
        "outputId": "228a19b5-fc95-4287-eef0-3d8e88dfb218",
        "collapsed": true
      },
      "outputs": [
        {
          "output_type": "stream",
          "name": "stdout",
          "text": [
            "Requirement already satisfied: pymongo in /usr/local/lib/python3.10/dist-packages (4.8.0)\n",
            "Requirement already satisfied: transformers in /usr/local/lib/python3.10/dist-packages (4.42.4)\n",
            "Requirement already satisfied: datasets in /usr/local/lib/python3.10/dist-packages (2.20.0)\n",
            "Requirement already satisfied: torch in /usr/local/lib/python3.10/dist-packages (2.3.1+cu121)\n",
            "Requirement already satisfied: faiss-cpu in /usr/local/lib/python3.10/dist-packages (1.8.0.post1)\n",
            "Requirement already satisfied: scikit-learn in /usr/local/lib/python3.10/dist-packages (1.3.2)\n",
            "Requirement already satisfied: dnspython<3.0.0,>=1.16.0 in /usr/local/lib/python3.10/dist-packages (from pymongo) (2.6.1)\n",
            "Requirement already satisfied: filelock in /usr/local/lib/python3.10/dist-packages (from transformers) (3.15.4)\n",
            "Requirement already satisfied: huggingface-hub<1.0,>=0.23.2 in /usr/local/lib/python3.10/dist-packages (from transformers) (0.23.5)\n",
            "Requirement already satisfied: numpy<2.0,>=1.17 in /usr/local/lib/python3.10/dist-packages (from transformers) (1.25.2)\n",
            "Requirement already satisfied: packaging>=20.0 in /usr/local/lib/python3.10/dist-packages (from transformers) (24.1)\n",
            "Requirement already satisfied: pyyaml>=5.1 in /usr/local/lib/python3.10/dist-packages (from transformers) (6.0.1)\n",
            "Requirement already satisfied: regex!=2019.12.17 in /usr/local/lib/python3.10/dist-packages (from transformers) (2024.5.15)\n",
            "Requirement already satisfied: requests in /usr/local/lib/python3.10/dist-packages (from transformers) (2.32.3)\n",
            "Requirement already satisfied: safetensors>=0.4.1 in /usr/local/lib/python3.10/dist-packages (from transformers) (0.4.3)\n",
            "Requirement already satisfied: tokenizers<0.20,>=0.19 in /usr/local/lib/python3.10/dist-packages (from transformers) (0.19.1)\n",
            "Requirement already satisfied: tqdm>=4.27 in /usr/local/lib/python3.10/dist-packages (from transformers) (4.66.4)\n",
            "Requirement already satisfied: pyarrow>=15.0.0 in /usr/local/lib/python3.10/dist-packages (from datasets) (17.0.0)\n",
            "Requirement already satisfied: pyarrow-hotfix in /usr/local/lib/python3.10/dist-packages (from datasets) (0.6)\n",
            "Requirement already satisfied: dill<0.3.9,>=0.3.0 in /usr/local/lib/python3.10/dist-packages (from datasets) (0.3.8)\n",
            "Requirement already satisfied: pandas in /usr/local/lib/python3.10/dist-packages (from datasets) (2.0.3)\n",
            "Requirement already satisfied: xxhash in /usr/local/lib/python3.10/dist-packages (from datasets) (3.4.1)\n",
            "Requirement already satisfied: multiprocess in /usr/local/lib/python3.10/dist-packages (from datasets) (0.70.16)\n",
            "Requirement already satisfied: fsspec<=2024.5.0,>=2023.1.0 in /usr/local/lib/python3.10/dist-packages (from fsspec[http]<=2024.5.0,>=2023.1.0->datasets) (2024.5.0)\n",
            "Requirement already satisfied: aiohttp in /usr/local/lib/python3.10/dist-packages (from datasets) (3.9.5)\n",
            "Requirement already satisfied: typing-extensions>=4.8.0 in /usr/local/lib/python3.10/dist-packages (from torch) (4.12.2)\n",
            "Requirement already satisfied: sympy in /usr/local/lib/python3.10/dist-packages (from torch) (1.13.1)\n",
            "Requirement already satisfied: networkx in /usr/local/lib/python3.10/dist-packages (from torch) (3.3)\n",
            "Requirement already satisfied: jinja2 in /usr/local/lib/python3.10/dist-packages (from torch) (3.1.4)\n",
            "Requirement already satisfied: nvidia-cuda-nvrtc-cu12==12.1.105 in /usr/local/lib/python3.10/dist-packages (from torch) (12.1.105)\n",
            "Requirement already satisfied: nvidia-cuda-runtime-cu12==12.1.105 in /usr/local/lib/python3.10/dist-packages (from torch) (12.1.105)\n",
            "Requirement already satisfied: nvidia-cuda-cupti-cu12==12.1.105 in /usr/local/lib/python3.10/dist-packages (from torch) (12.1.105)\n",
            "Requirement already satisfied: nvidia-cudnn-cu12==8.9.2.26 in /usr/local/lib/python3.10/dist-packages (from torch) (8.9.2.26)\n",
            "Requirement already satisfied: nvidia-cublas-cu12==12.1.3.1 in /usr/local/lib/python3.10/dist-packages (from torch) (12.1.3.1)\n",
            "Requirement already satisfied: nvidia-cufft-cu12==11.0.2.54 in /usr/local/lib/python3.10/dist-packages (from torch) (11.0.2.54)\n",
            "Requirement already satisfied: nvidia-curand-cu12==10.3.2.106 in /usr/local/lib/python3.10/dist-packages (from torch) (10.3.2.106)\n",
            "Requirement already satisfied: nvidia-cusolver-cu12==11.4.5.107 in /usr/local/lib/python3.10/dist-packages (from torch) (11.4.5.107)\n",
            "Requirement already satisfied: nvidia-cusparse-cu12==12.1.0.106 in /usr/local/lib/python3.10/dist-packages (from torch) (12.1.0.106)\n",
            "Requirement already satisfied: nvidia-nccl-cu12==2.20.5 in /usr/local/lib/python3.10/dist-packages (from torch) (2.20.5)\n",
            "Requirement already satisfied: nvidia-nvtx-cu12==12.1.105 in /usr/local/lib/python3.10/dist-packages (from torch) (12.1.105)\n",
            "Requirement already satisfied: triton==2.3.1 in /usr/local/lib/python3.10/dist-packages (from torch) (2.3.1)\n",
            "Requirement already satisfied: nvidia-nvjitlink-cu12 in /usr/local/lib/python3.10/dist-packages (from nvidia-cusolver-cu12==11.4.5.107->torch) (12.5.82)\n",
            "Requirement already satisfied: scipy>=1.5.0 in /usr/local/lib/python3.10/dist-packages (from scikit-learn) (1.13.1)\n",
            "Requirement already satisfied: joblib>=1.1.1 in /usr/local/lib/python3.10/dist-packages (from scikit-learn) (1.4.2)\n",
            "Requirement already satisfied: threadpoolctl>=2.0.0 in /usr/local/lib/python3.10/dist-packages (from scikit-learn) (3.5.0)\n",
            "Requirement already satisfied: aiosignal>=1.1.2 in /usr/local/lib/python3.10/dist-packages (from aiohttp->datasets) (1.3.1)\n",
            "Requirement already satisfied: attrs>=17.3.0 in /usr/local/lib/python3.10/dist-packages (from aiohttp->datasets) (23.2.0)\n",
            "Requirement already satisfied: frozenlist>=1.1.1 in /usr/local/lib/python3.10/dist-packages (from aiohttp->datasets) (1.4.1)\n",
            "Requirement already satisfied: multidict<7.0,>=4.5 in /usr/local/lib/python3.10/dist-packages (from aiohttp->datasets) (6.0.5)\n",
            "Requirement already satisfied: yarl<2.0,>=1.0 in /usr/local/lib/python3.10/dist-packages (from aiohttp->datasets) (1.9.4)\n",
            "Requirement already satisfied: async-timeout<5.0,>=4.0 in /usr/local/lib/python3.10/dist-packages (from aiohttp->datasets) (4.0.3)\n",
            "Requirement already satisfied: charset-normalizer<4,>=2 in /usr/local/lib/python3.10/dist-packages (from requests->transformers) (3.3.2)\n",
            "Requirement already satisfied: idna<4,>=2.5 in /usr/local/lib/python3.10/dist-packages (from requests->transformers) (3.7)\n",
            "Requirement already satisfied: urllib3<3,>=1.21.1 in /usr/local/lib/python3.10/dist-packages (from requests->transformers) (2.0.7)\n",
            "Requirement already satisfied: certifi>=2017.4.17 in /usr/local/lib/python3.10/dist-packages (from requests->transformers) (2024.7.4)\n",
            "Requirement already satisfied: MarkupSafe>=2.0 in /usr/local/lib/python3.10/dist-packages (from jinja2->torch) (2.1.5)\n",
            "Requirement already satisfied: python-dateutil>=2.8.2 in /usr/local/lib/python3.10/dist-packages (from pandas->datasets) (2.8.2)\n",
            "Requirement already satisfied: pytz>=2020.1 in /usr/local/lib/python3.10/dist-packages (from pandas->datasets) (2024.1)\n",
            "Requirement already satisfied: tzdata>=2022.1 in /usr/local/lib/python3.10/dist-packages (from pandas->datasets) (2024.1)\n",
            "Requirement already satisfied: mpmath<1.4,>=1.1.0 in /usr/local/lib/python3.10/dist-packages (from sympy->torch) (1.3.0)\n",
            "Requirement already satisfied: six>=1.5 in /usr/local/lib/python3.10/dist-packages (from python-dateutil>=2.8.2->pandas->datasets) (1.16.0)\n"
          ]
        }
      ],
      "source": [
        "!pip install pymongo transformers datasets torch faiss-cpu scikit-learn\n",
        "\n",
        "import pandas as pd\n",
        "import numpy as np\n",
        "from pymongo import MongoClient\n",
        "import faiss\n",
        "from sklearn.feature_extraction.text import TfidfVectorizer\n",
        "from transformers import AutoTokenizer, AutoModelForSequenceClassification, Trainer, TrainingArguments\n",
        "import torch"
      ]
    },
    {
      "cell_type": "code",
      "source": [
        "df=pd.read_csv('data.csv')"
      ],
      "metadata": {
        "id": "5fKAQtbpIxjY"
      },
      "execution_count": 2,
      "outputs": []
    },
    {
      "cell_type": "code",
      "source": [
        "import sqlite3"
      ],
      "metadata": {
        "id": "byYe9GK6M8mQ"
      },
      "execution_count": 3,
      "outputs": []
    },
    {
      "cell_type": "code",
      "source": [
        "conn = sqlite3.connect('candidates.db')\n",
        "cursor = conn.cursor()"
      ],
      "metadata": {
        "id": "jWweDYxpKj9T"
      },
      "execution_count": 4,
      "outputs": []
    },
    {
      "cell_type": "code",
      "source": [
        "def fetch_all_candidates():\n",
        "    cursor.execute(\"SELECT * FROM candidates\")\n",
        "    columns = [description[0] for description in cursor.description]\n",
        "    return [dict(zip(columns, row)) for row in cursor.fetchall()]"
      ],
      "metadata": {
        "id": "iPaDVC77M5Wg"
      },
      "execution_count": 5,
      "outputs": []
    },
    {
      "cell_type": "code",
      "source": [
        "all_candidates = fetch_all_candidates()\n",
        "print(f\"Loaded {len(all_candidates)} candidates from the database.\")"
      ],
      "metadata": {
        "colab": {
          "base_uri": "https://localhost:8080/"
        },
        "id": "LDj4Y0SENERT",
        "outputId": "66b8fd7e-f123-4416-a5cb-23e6c29614de"
      },
      "execution_count": 6,
      "outputs": [
        {
          "output_type": "stream",
          "name": "stdout",
          "text": [
            "Loaded 120 candidates from the database.\n"
          ]
        }
      ]
    },
    {
      "cell_type": "code",
      "source": [
        "def preprocess_candidate(candidate):\n",
        "    return f\"{candidate['Name']} {candidate['JobSkills']} {candidate['Experience']} {candidate['Projects']} {candidate['Comments']}\"\n",
        "\n",
        "preprocessed_data = [preprocess_candidate(candidate) for candidate in all_candidates]"
      ],
      "metadata": {
        "id": "d65OpwBBNG9x"
      },
      "execution_count": 7,
      "outputs": []
    },
    {
      "cell_type": "code",
      "source": [
        "\n",
        "vectorizer = TfidfVectorizer()\n",
        "tfidf_vectors = vectorizer.fit_transform(preprocessed_data)\n",
        "\n",
        "dense_vectors = tfidf_vectors.toarray().astype('float32')\n"
      ],
      "metadata": {
        "id": "mQocZIPiNLrd"
      },
      "execution_count": 8,
      "outputs": []
    },
    {
      "cell_type": "code",
      "source": [
        "\n",
        "dimension = dense_vectors.shape[1]\n",
        "index = faiss.IndexFlatL2(dimension)\n",
        "index.add(dense_vectors)\n",
        "\n"
      ],
      "metadata": {
        "id": "mfwLx56JNXpE"
      },
      "execution_count": 9,
      "outputs": []
    },
    {
      "cell_type": "code",
      "source": [
        "faiss.write_index(index, \"candidate_index.bin\")"
      ],
      "metadata": {
        "id": "q-yl-U_uNaCV"
      },
      "execution_count": 10,
      "outputs": []
    },
    {
      "cell_type": "code",
      "source": [
        "\n",
        "def prepare_data(candidate):\n",
        "    return {\n",
        "        \"text\": preprocess_candidate(candidate),\n",
        "        \"label\": 1\n",
        "    }\n",
        "\n",
        "train_data = [prepare_data(candidate) for candidate in all_candidates]"
      ],
      "metadata": {
        "id": "C2PKrR7eNjaE"
      },
      "execution_count": 11,
      "outputs": []
    },
    {
      "cell_type": "code",
      "source": [
        "!pip install datasets\n",
        "from datasets import Dataset\n",
        "\n",
        "dataset = Dataset.from_dict({\n",
        "    \"text\": [item[\"text\"] for item in train_data],\n",
        "    \"label\": [item[\"label\"] for item in train_data]\n",
        "})"
      ],
      "metadata": {
        "id": "o0Vjn-LbNn1b",
        "colab": {
          "base_uri": "https://localhost:8080/"
        },
        "outputId": "58cddb67-664f-45d2-d3a6-7819afd453c2"
      },
      "execution_count": 14,
      "outputs": [
        {
          "output_type": "stream",
          "name": "stdout",
          "text": [
            "Requirement already satisfied: datasets in /usr/local/lib/python3.10/dist-packages (2.20.0)\n",
            "Requirement already satisfied: filelock in /usr/local/lib/python3.10/dist-packages (from datasets) (3.15.4)\n",
            "Requirement already satisfied: numpy>=1.17 in /usr/local/lib/python3.10/dist-packages (from datasets) (1.25.2)\n",
            "Requirement already satisfied: pyarrow>=15.0.0 in /usr/local/lib/python3.10/dist-packages (from datasets) (17.0.0)\n",
            "Requirement already satisfied: pyarrow-hotfix in /usr/local/lib/python3.10/dist-packages (from datasets) (0.6)\n",
            "Requirement already satisfied: dill<0.3.9,>=0.3.0 in /usr/local/lib/python3.10/dist-packages (from datasets) (0.3.8)\n",
            "Requirement already satisfied: pandas in /usr/local/lib/python3.10/dist-packages (from datasets) (2.0.3)\n",
            "Requirement already satisfied: requests>=2.32.2 in /usr/local/lib/python3.10/dist-packages (from datasets) (2.32.3)\n",
            "Requirement already satisfied: tqdm>=4.66.3 in /usr/local/lib/python3.10/dist-packages (from datasets) (4.66.4)\n",
            "Requirement already satisfied: xxhash in /usr/local/lib/python3.10/dist-packages (from datasets) (3.4.1)\n",
            "Requirement already satisfied: multiprocess in /usr/local/lib/python3.10/dist-packages (from datasets) (0.70.16)\n",
            "Requirement already satisfied: fsspec<=2024.5.0,>=2023.1.0 in /usr/local/lib/python3.10/dist-packages (from fsspec[http]<=2024.5.0,>=2023.1.0->datasets) (2024.5.0)\n",
            "Requirement already satisfied: aiohttp in /usr/local/lib/python3.10/dist-packages (from datasets) (3.9.5)\n",
            "Requirement already satisfied: huggingface-hub>=0.21.2 in /usr/local/lib/python3.10/dist-packages (from datasets) (0.23.5)\n",
            "Requirement already satisfied: packaging in /usr/local/lib/python3.10/dist-packages (from datasets) (24.1)\n",
            "Requirement already satisfied: pyyaml>=5.1 in /usr/local/lib/python3.10/dist-packages (from datasets) (6.0.1)\n",
            "Requirement already satisfied: aiosignal>=1.1.2 in /usr/local/lib/python3.10/dist-packages (from aiohttp->datasets) (1.3.1)\n",
            "Requirement already satisfied: attrs>=17.3.0 in /usr/local/lib/python3.10/dist-packages (from aiohttp->datasets) (23.2.0)\n",
            "Requirement already satisfied: frozenlist>=1.1.1 in /usr/local/lib/python3.10/dist-packages (from aiohttp->datasets) (1.4.1)\n",
            "Requirement already satisfied: multidict<7.0,>=4.5 in /usr/local/lib/python3.10/dist-packages (from aiohttp->datasets) (6.0.5)\n",
            "Requirement already satisfied: yarl<2.0,>=1.0 in /usr/local/lib/python3.10/dist-packages (from aiohttp->datasets) (1.9.4)\n",
            "Requirement already satisfied: async-timeout<5.0,>=4.0 in /usr/local/lib/python3.10/dist-packages (from aiohttp->datasets) (4.0.3)\n",
            "Requirement already satisfied: typing-extensions>=3.7.4.3 in /usr/local/lib/python3.10/dist-packages (from huggingface-hub>=0.21.2->datasets) (4.12.2)\n",
            "Requirement already satisfied: charset-normalizer<4,>=2 in /usr/local/lib/python3.10/dist-packages (from requests>=2.32.2->datasets) (3.3.2)\n",
            "Requirement already satisfied: idna<4,>=2.5 in /usr/local/lib/python3.10/dist-packages (from requests>=2.32.2->datasets) (3.7)\n",
            "Requirement already satisfied: urllib3<3,>=1.21.1 in /usr/local/lib/python3.10/dist-packages (from requests>=2.32.2->datasets) (2.0.7)\n",
            "Requirement already satisfied: certifi>=2017.4.17 in /usr/local/lib/python3.10/dist-packages (from requests>=2.32.2->datasets) (2024.7.4)\n",
            "Requirement already satisfied: python-dateutil>=2.8.2 in /usr/local/lib/python3.10/dist-packages (from pandas->datasets) (2.8.2)\n",
            "Requirement already satisfied: pytz>=2020.1 in /usr/local/lib/python3.10/dist-packages (from pandas->datasets) (2024.1)\n",
            "Requirement already satisfied: tzdata>=2022.1 in /usr/local/lib/python3.10/dist-packages (from pandas->datasets) (2024.1)\n",
            "Requirement already satisfied: six>=1.5 in /usr/local/lib/python3.10/dist-packages (from python-dateutil>=2.8.2->pandas->datasets) (1.16.0)\n"
          ]
        }
      ]
    },
    {
      "cell_type": "code",
      "source": [
        "\n",
        "model_name = \"distilbert-base-uncased\"\n",
        "tokenizer = AutoTokenizer.from_pretrained(model_name)\n",
        "model = AutoModelForSequenceClassification.from_pretrained(model_name, num_labels=2)\n"
      ],
      "metadata": {
        "colab": {
          "base_uri": "https://localhost:8080/"
        },
        "id": "nXXZJ9gbNuNn",
        "outputId": "20a4cd79-cf6d-4a0a-9765-b316bc7bbd3f"
      },
      "execution_count": 15,
      "outputs": [
        {
          "output_type": "stream",
          "name": "stderr",
          "text": [
            "Some weights of DistilBertForSequenceClassification were not initialized from the model checkpoint at distilbert-base-uncased and are newly initialized: ['classifier.bias', 'classifier.weight', 'pre_classifier.bias', 'pre_classifier.weight']\n",
            "You should probably TRAIN this model on a down-stream task to be able to use it for predictions and inference.\n"
          ]
        }
      ]
    },
    {
      "cell_type": "code",
      "source": [
        "\n",
        "def tokenize_function(examples):\n",
        "    return tokenizer(examples[\"text\"], padding=\"max_length\", truncation=True)\n",
        "\n",
        "tokenized_dataset = dataset.map(tokenize_function, batched=True)\n"
      ],
      "metadata": {
        "colab": {
          "base_uri": "https://localhost:8080/",
          "height": 49,
          "referenced_widgets": [
            "a0e724d159024f64aee9544505177591",
            "8868d850a4324f4eb5b973650c27d2c5",
            "d349fa70c2d44d548ffd3bca1876d6da",
            "45d87e014b114e959715c66a9d45eb4c",
            "4ef2b902122f4552bac227481e6ae49a",
            "5daebb2788fc4385a49677ff2d0ec200",
            "f6a7241517ef489ea5ce958a244e4889",
            "1234fe02f2c64ee3b18a72b5532dffe5",
            "d917a861d751478798e57b9f4c77ccda",
            "02f8ef44f37446088541ed930f5ea055",
            "6bee5fe50423459b8939bb0507126612"
          ]
        },
        "id": "X5LgEDMZNw_p",
        "outputId": "2ad15452-ea86-4348-e760-3527c450954f"
      },
      "execution_count": 16,
      "outputs": [
        {
          "output_type": "display_data",
          "data": {
            "text/plain": [
              "Map:   0%|          | 0/120 [00:00<?, ? examples/s]"
            ],
            "application/vnd.jupyter.widget-view+json": {
              "version_major": 2,
              "version_minor": 0,
              "model_id": "a0e724d159024f64aee9544505177591"
            }
          },
          "metadata": {}
        }
      ]
    },
    {
      "cell_type": "code",
      "source": [
        "\n",
        "training_args = TrainingArguments(\n",
        "    output_dir=\"./results\",\n",
        "    per_device_train_batch_size=8,\n",
        "    per_device_eval_batch_size=64,\n",
        "    num_train_epochs=3,\n",
        "    learning_rate=2e-5,\n",
        "    weight_decay=0.01,\n",
        ")"
      ],
      "metadata": {
        "id": "IiBnAhOUOL8z"
      },
      "execution_count": 19,
      "outputs": []
    },
    {
      "cell_type": "code",
      "source": [
        "trainer = Trainer(\n",
        "    model=model,\n",
        "    args=training_args,\n",
        "    train_dataset=tokenized_dataset,\n",
        ")"
      ],
      "metadata": {
        "id": "4q_LoDkGOSpq"
      },
      "execution_count": 20,
      "outputs": []
    },
    {
      "cell_type": "code",
      "source": [
        "trainer.train()"
      ],
      "metadata": {
        "colab": {
          "base_uri": "https://localhost:8080/",
          "height": 168
        },
        "id": "pjpsCmF7OVXr",
        "outputId": "8b3dcdc7-d741-48b1-8db1-852bc473346b"
      },
      "execution_count": 21,
      "outputs": [
        {
          "data": {
            "text/html": [
              "\n",
              "    <div>\n",
              "      \n",
              "      <progress value='42' max='45' style='width:300px; height:20px; vertical-align: middle;'></progress>\n",
              "      [42/45 20:20 < 01:31, 0.03 it/s, Epoch 2.73/3]\n",
              "    </div>\n",
              "    <table border=\"1\" class=\"dataframe\">\n",
              "  <thead>\n",
              " <tr style=\"text-align: left;\">\n",
              "      <th>Step</th>\n",
              "      <th>Training Loss</th>\n",
              "    </tr>\n",
              "  </thead>\n",
              "  <tbody>\n",
              "  </tbody>\n",
              "</table><p>"
            ],
            "text/plain": [
              "<IPython.core.display.HTML object>"
            ]
          },
          "metadata": {},
          "output_type": "display_data"
        },
        {
          "output_type": "display_data",
          "data": {
            "text/plain": [
              "<IPython.core.display.HTML object>"
            ],
            "text/html": [
              "\n",
              "    <div>\n",
              "      \n",
              "      <progress value='45' max='45' style='width:300px; height:20px; vertical-align: middle;'></progress>\n",
              "      [45/45 22:27, Epoch 3/3]\n",
              "    </div>\n",
              "    <table border=\"1\" class=\"dataframe\">\n",
              "  <thead>\n",
              " <tr style=\"text-align: left;\">\n",
              "      <th>Step</th>\n",
              "      <th>Training Loss</th>\n",
              "    </tr>\n",
              "  </thead>\n",
              "  <tbody>\n",
              "  </tbody>\n",
              "</table><p>"
            ]
          },
          "metadata": {}
        },
        {
          "output_type": "execute_result",
          "data": {
            "text/plain": [
              "TrainOutput(global_step=45, training_loss=0.13548045688205296, metrics={'train_runtime': 1392.395, 'train_samples_per_second': 0.259, 'train_steps_per_second': 0.032, 'total_flos': 47688263516160.0, 'train_loss': 0.13548045688205296, 'epoch': 3.0})"
            ]
          },
          "metadata": {},
          "execution_count": 21
        }
      ]
    },
    {
      "cell_type": "code",
      "source": [
        "trainer.save_model(\"fine_tuned_candidate_model\")"
      ],
      "metadata": {
        "id": "_47KtmEBOZBt"
      },
      "execution_count": 22,
      "outputs": []
    },
    {
      "cell_type": "code",
      "source": [
        "\n",
        "model_save_path = \"fine_tuned_candidate_model\"\n",
        "model.save_pretrained(model_save_path)\n",
        "tokenizer.save_pretrained(model_save_path)\n",
        "print(f\"Model and tokenizer saved to {model_save_path}\")"
      ],
      "metadata": {
        "colab": {
          "base_uri": "https://localhost:8080/"
        },
        "id": "_1Aegg0fhUsJ",
        "outputId": "df1c9f14-0988-4d23-9c7f-8e55aea9b0a7"
      },
      "execution_count": 23,
      "outputs": [
        {
          "output_type": "stream",
          "name": "stdout",
          "text": [
            "Model and tokenizer saved to fine_tuned_candidate_model\n"
          ]
        }
      ]
    },
    {
      "cell_type": "code",
      "source": [
        "\n",
        "class RAGFramework:\n",
        "    def __init__(self):\n",
        "\n",
        "        model_dir = \"./fine_tuned_candidate_model\"\n",
        "        self.tokenizer = AutoTokenizer.from_pretrained(model_dir)\n",
        "        self.model = AutoModelForSequenceClassification.from_pretrained(model_dir)\n",
        "\n",
        "        model_dir = \"fine_tuned_candidate_model\"\n",
        "        self.tokenizer = AutoTokenizer.from_pretrained(model_dir)\n",
        "        self.model = AutoModelForSequenceClassification.from_pretrained(model_dir)\n",
        "\n",
        "\n",
        "        self.conn = sqlite3.connect('candidates.db')\n",
        "        self.cursor = self.conn.cursor()\n",
        "\n",
        "\n",
        "        self.vectorizer = TfidfVectorizer()\n",
        "        all_candidates = fetch_all_candidates()\n",
        "        preprocessed_data = [self.preprocess_candidate(candidate) for candidate in all_candidates]\n",
        "        self.vectorizer.fit(preprocessed_data)\n",
        "\n",
        "    def preprocess_candidate(self, candidate):\n",
        "        return f\"{candidate['Name']} {candidate['JobSkills']} {candidate['Experience']} {candidate['Projects']} {candidate['Comments']}\"\n",
        "\n",
        "    def search_candidates(self, job_description, top_k=5):\n",
        "\n",
        "        job_vector = self.vectorizer.transform([job_description]).toarray().astype('float32')\n",
        "\n",
        "        _, candidate_indices = self.index.search(job_vector, top_k)\n",
        "\n",
        "        all_candidates = fetch_all_candidates()\n",
        "        matching_candidates = [all_candidates[i] for i in candidate_indices[0]]\n",
        "\n",
        "\n",
        "        refined_candidates = self.refine_with_llm(job_description, matching_candidates)\n",
        "\n",
        "        return refined_candidates\n",
        "\n",
        "    def refine_with_llm(self, job_description, candidates):\n",
        "        refined_candidates = []\n",
        "        for candidate in candidates:\n",
        "            input_text = f\"Job: {job_description}\\nCandidate: {self.preprocess_candidate(candidate)}\"\n",
        "            inputs = self.tokenizer(input_text, return_tensors=\"pt\", padding=True, truncation=True)\n",
        "            outputs = self.model(**inputs)\n",
        "            score = outputs.logits.softmax(dim=1)[0][1].item()\n",
        "            if score > 0.5:\n",
        "                refined_candidates.append((candidate, score))\n",
        "\n",
        "        return sorted(refined_candidates, key=lambda x: x[1], reverse=True)\n"
      ],
      "metadata": {
        "id": "ECgnj6LBcQed"
      },
      "execution_count": 24,
      "outputs": []
    },
    {
      "cell_type": "code",
      "source": [
        "import sqlite3\n",
        "import faiss\n",
        "import numpy as np\n",
        "from sklearn.feature_extraction.text import TfidfVectorizer\n",
        "from sklearn.metrics.pairwise import cosine_similarity\n",
        "import re\n",
        "\n",
        "def fetch_all_candidates():\n",
        "    conn = sqlite3.connect('candidates.db')\n",
        "    cursor = conn.cursor()\n",
        "    cursor.execute(\"SELECT * FROM candidates\")\n",
        "    columns = [description[0] for description in cursor.description]\n",
        "    candidates = [dict(zip(columns, row)) for row in cursor.fetchall()]\n",
        "    conn.close()\n",
        "    return candidates\n",
        "\n",
        "def preprocess_candidate(candidate):\n",
        "    skills = candidate.get('JobSkills', '')\n",
        "    return f\"{candidate.get('Name', '')} {skills} {candidate.get('Experience', '')} {candidate.get('Projects', '')} {candidate.get('Comments', '')}\".strip()\n",
        "\n",
        "def preprocess_job_description(job_description):\n",
        "    job_description = re.sub(r'\\W+', ' ', job_description)\n",
        "    return job_description.lower().strip()\n",
        "\n",
        "class RAGFramework:\n",
        "    def __init__(self, all_candidates):\n",
        "        self.all_candidates = all_candidates\n",
        "        preprocessed_data = [preprocess_candidate(candidate) for candidate in all_candidates]\n",
        "        vectorizer = TfidfVectorizer(stop_words='english')\n",
        "        tfidf_vectors = vectorizer.fit_transform(preprocessed_data)\n",
        "        dense_vectors = tfidf_vectors.toarray().astype('float32')\n",
        "\n",
        "        dimension = dense_vectors.shape[1]\n",
        "        self.index = faiss.IndexFlatIP(dimension)\n",
        "        faiss.normalize_L2(dense_vectors)\n",
        "        self.index.add(dense_vectors)\n",
        "        self.vectorizer = vectorizer\n",
        "\n",
        "    def search_candidates(self, job_description, num_candidates=10):\n",
        "        preprocessed_description = preprocess_job_description(job_description)\n",
        "        job_vector = self.vectorizer.transform([preprocessed_description]).toarray().astype('float32')\n",
        "        faiss.normalize_L2(job_vector)\n",
        "        _, candidate_indices = self.index.search(job_vector, len(self.all_candidates))\n",
        "\n",
        "        matching_candidates = [self.all_candidates[i] for i in candidate_indices[0]]\n",
        "\n",
        "        filtered_candidates = []\n",
        "        for candidate in matching_candidates:\n",
        "            candidate_skills = set((candidate.get('JobSkills', '')).lower().replace(',', '').split())\n",
        "            job_skills = set(preprocessed_description.split())\n",
        "            similarity_score = cosine_similarity(\n",
        "                self.vectorizer.transform([\" \".join(candidate_skills)]).toarray(),\n",
        "                self.vectorizer.transform([\" \".join(job_skills)]).toarray()\n",
        "            )[0][0]\n",
        "            if similarity_score > 0.1:\n",
        "                filtered_candidates.append(candidate)\n",
        "            if len(filtered_candidates) >= num_candidates:\n",
        "                break\n",
        "\n",
        "        if len(filtered_candidates) < num_candidates:\n",
        "            filtered_candidates = []\n",
        "            for candidate in matching_candidates:\n",
        "                candidate_skills = set((candidate.get('JobSkills', '')).lower().replace(',', '').split())\n",
        "                job_skills = set(preprocessed_description.split())\n",
        "                similarity_score = cosine_similarity(\n",
        "                    self.vectorizer.transform([\" \".join(candidate_skills)]).toarray(),\n",
        "                    self.vectorizer.transform([\" \".join(job_skills)]).toarray()\n",
        "                )[0][0]\n",
        "                if similarity_score > 0.05:\n",
        "                    filtered_candidates.append(candidate)\n",
        "                if len(filtered_candidates) >= num_candidates:\n",
        "                    break\n",
        "\n",
        "        return filtered_candidates\n",
        "\n",
        "all_candidates = fetch_all_candidates()\n",
        "rag_framework = RAGFramework(all_candidates)\n",
        "\n",
        "def search_candidates(job_description):\n",
        "    matching_candidates = rag_framework.search_candidates(job_description)\n",
        "\n",
        "    print(f\"\\nMatching Candidates for: {job_description}\")\n",
        "    print(f\"Found {len(matching_candidates)} matching candidates:\")\n",
        "\n",
        "    if not matching_candidates:\n",
        "        print(\"No matching candidates found.\")\n",
        "    else:\n",
        "        for i, candidate in enumerate(matching_candidates, 1):\n",
        "            print(f\"\\n{i}. Name: {candidate.get('Name', 'N/A')}\")\n",
        "            print(f\"   Contact Details: {candidate.get('ContactDetails', 'N/A')}\")\n",
        "            print(f\"   Location: {candidate.get('Location', 'N/A')}\")\n",
        "            skills = candidate.get('JobSkills', 'N/A')\n",
        "            print(f\"   Job Skills: {skills}\")\n",
        "            print(f\"   Experience: {candidate.get('Experience', 'N/A')}\")\n",
        "            print(f\"   Projects: {candidate.get('Projects', 'N/A')}\")\n",
        "            print(f\"   Comments: {candidate.get('Comments', 'N/A')}\")\n",
        "\n",
        "job_description = input(\"Enter job description (e.g., 'React developer'): \")\n",
        "search_candidates(job_description)\n"
      ],
      "metadata": {
        "colab": {
          "base_uri": "https://localhost:8080/"
        },
        "id": "6H0Nitvp9GKo",
        "outputId": "0b67a152-f891-4615-fe89-8655bda28cb4"
      },
      "execution_count": 26,
      "outputs": [
        {
          "output_type": "stream",
          "name": "stdout",
          "text": [
            "Enter job description (e.g., 'React developer'): Pick up the top 10 profiles for the following job description, We are looking for a skilled UI Developer to join our dynamic team. The ideal candidate will have a strong background in front-end development, with proficiency in HTML, CSS, JavaScript, and modern frameworks like React or Angular. Your primary responsibility will be to create visually appealing and user-friendly web interfaces that enhance user experience and align with our brand guidelines\n",
            "\n",
            "Matching Candidates for: Pick up the top 10 profiles for the following job description, We are looking for a skilled UI Developer to join our dynamic team. The ideal candidate will have a strong background in front-end development, with proficiency in HTML, CSS, JavaScript, and modern frameworks like React or Angular. Your primary responsibility will be to create visually appealing and user-friendly web interfaces that enhance user experience and align with our brand guidelines\n",
            "Found 10 matching candidates:\n",
            "\n",
            "1. Name: Grace King\n",
            "   Contact Details: grace.king@example.com\n",
            "   Location: San Francisco\n",
            "   Job Skills: JavaScript; Angular; Node.js\n",
            "   Experience: 3 years\n",
            "   Projects: Created a single-page application using Angular and Node.js.\n",
            "   Comments: Great at team collaboration.\n",
            "\n",
            "2. Name: Bob Smith\n",
            "   Contact Details: bob.smith@hotmail.com\n",
            "   Location: Los Angeles, CA\n",
            "   Job Skills: React, Django, Python, Flask\n",
            "   Experience: 10 years\n",
            "   Projects: Microservices architecture\n",
            "   Comments: Front-end specialist\n",
            "\n",
            "3. Name: Pam Beesly\n",
            "   Contact Details: pam.beesly@yahoo.com\n",
            "   Location: Los Angeles, CA\n",
            "   Job Skills: JavaScript, Python, Java, React\n",
            "   Experience: 3 years\n",
            "   Projects: Cloud infrastructure setup\n",
            "   Comments: Strong leadership skills\n",
            "\n",
            "4. Name: Rachel Green\n",
            "   Contact Details: rachel.green@outlook.com\n",
            "   Location: Philadelphia, PA\n",
            "   Job Skills: Kubernetes, Flask, SQL, JavaScript\n",
            "   Experience: 7 years\n",
            "   Projects: Front-end redesign\n",
            "   Comments: Expert in backend development\n",
            "\n",
            "5. Name: Jane Smith\n",
            "   Contact Details: jane.smith@example.com\n",
            "   Location: San Francisco\n",
            "   Job Skills: JavaScript; React; Node.js\n",
            "   Experience: 3 years\n",
            "   Projects: Built a real-time chat application using React and Node.js.\n",
            "   Comments: Excellent in team collaboration.\n",
            "\n",
            "6. Name: Daisy Johnson\n",
            "   Contact Details: daisy.johnson@outlook.com\n",
            "   Location: San Jose, CA\n",
            "   Job Skills: Go, SQL, React, Java\n",
            "   Experience: 14 years\n",
            "   Projects: Legacy system upgrade\n",
            "   Comments: Skilled in microservices\n",
            "\n",
            "7. Name: Ian Malcolm\n",
            "   Contact Details: ian.malcolm@yahoo.com\n",
            "   Location: Houston, TX\n",
            "   Job Skills: Kubernetes, Ruby, AWS, React\n",
            "   Experience: 11 years\n",
            "   Projects: Front-end redesign\n",
            "   Comments: Front-end specialist\n",
            "\n",
            "8. Name: Sam Winchester\n",
            "   Contact Details: sam.winchester@hotmail.com\n",
            "   Location: Chicago, IL\n",
            "   Job Skills: Flask, JavaScript, Django, Big Data\n",
            "   Experience: 4 years\n",
            "   Projects: Legacy system upgrade\n",
            "   Comments: Skilled in microservices\n",
            "\n",
            "9. Name: Michael Scott\n",
            "   Contact Details: michael.scott@gmail.com\n",
            "   Location: Chicago, IL\n",
            "   Job Skills: Flask, Go, React, Azure\n",
            "   Experience: 3 years\n",
            "   Projects: Front-end redesign\n",
            "   Comments: Machine learning expert\n",
            "\n",
            "10. Name: Oscar Martinez\n",
            "   Contact Details: oscar.martinez@gmail.com\n",
            "   Location: Los Angeles, CA\n",
            "   Job Skills: Python, Microservices, SQL, React\n",
            "   Experience: 9 years\n",
            "   Projects: API development\n",
            "   Comments: Cloud computing expert\n"
          ]
        }
      ]
    },
    {
      "cell_type": "code",
      "source": [],
      "metadata": {
        "id": "urVm8YYJ6b5L"
      },
      "execution_count": null,
      "outputs": []
    }
  ]
}